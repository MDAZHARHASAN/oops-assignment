{
 "cells": [
  {
   "cell_type": "code",
   "execution_count": 1,
   "id": "32211df7-d6bb-4065-932e-635a22e412ec",
   "metadata": {},
   "outputs": [],
   "source": [
    "#Q1. Explain Class and Object with respect to Object-Oriented Programming. Give a suitable example."
   ]
  },
  {
   "cell_type": "code",
   "execution_count": 2,
   "id": "2cc1a412-658e-416b-ab69-6e7d11781d23",
   "metadata": {},
   "outputs": [
    {
     "name": "stdout",
     "output_type": "stream",
     "text": [
      "Hello, my name is Azhar and I am 25 years old.\n",
      "Hello, my name is hassan and I am 30 years old.\n"
     ]
    }
   ],
   "source": [
    "# In object-oriented programming, a class is a blueprint for creating objects. \n",
    "# It defines the attributes and methods that an object of that class will have. An object, on the other hand, \n",
    "# is an instance of a class. It is created from the blueprint defined by the class and has its own set of values for the\n",
    "# attributes defined in the class.\n",
    "# In Python, you can define a class using the class keyword. for example\n",
    "class Person:\n",
    "    def __init__(self, name, age):\n",
    "        self.name = name\n",
    "        self.age = age\n",
    "    \n",
    "    def say_hello(self):\n",
    "        print(f\"Hello, my name is {self.name} and I am {self.age} years old.\")\n",
    "# In this example, the Person class has two attributes (name and age) and one method (say_hello).\n",
    "# The __init__ method is a special method that is called when an object of the class is created.\n",
    "# It takes two arguments (name and age) and initializes the corresponding attributes with those values.\n",
    "# To create an object of the Person class, you simply call the class as if it were a function,\n",
    "# passing in the required arguments:\n",
    "\n",
    "azhar = Person(\"Azhar\", 25)\n",
    "hassan = Person(\"hassan\", 30)\n",
    "# Now azhar and hassan are two separate 'instances' or 'object' or 'variable' of the (Person class),\n",
    "# with their own values for the name and age attributes.\n",
    "azhar.say_hello()  \n",
    "hassan.say_hello()  \n"
   ]
  },
  {
   "cell_type": "code",
   "execution_count": 3,
   "id": "6a5fd19c-0b4f-4d24-a20b-41de79c98a2c",
   "metadata": {},
   "outputs": [],
   "source": [
    "#Q2 Name the four pillars of OOPs."
   ]
  },
  {
   "cell_type": "code",
   "execution_count": 4,
   "id": "2c5dd7e0-a778-491f-b511-74399e88e79e",
   "metadata": {},
   "outputs": [],
   "source": [
    "# Abstraction\n",
    "# Encapsulation\n",
    "# Inheritance\n",
    "# Polymorphism"
   ]
  },
  {
   "cell_type": "code",
   "execution_count": 5,
   "id": "c150f797-635a-4631-811e-cccc3d48fc3c",
   "metadata": {},
   "outputs": [],
   "source": [
    "#Q3. Explain why the __init__() function is used. Give a suitable example."
   ]
  },
  {
   "cell_type": "code",
   "execution_count": 6,
   "id": "0ae56bf6-e60d-480e-a1de-adf2ddf911c7",
   "metadata": {},
   "outputs": [
    {
     "name": "stdout",
     "output_type": "stream",
     "text": [
      "Name: azhar hasan, Salary: 5000\n"
     ]
    }
   ],
   "source": [
    "# In Python, the __init__() function is a special method that is used to initialize the attributes of an object when \n",
    "# it is created. The main purpose of __init__() method is to perform any necessary setup or initialization tasks \n",
    "# that need to be done for the object to function properly. This method is called automatically when an object is created\n",
    "# from a class and allows us to set the initial state of the object.\n",
    "# for example\n",
    "class Employee:\n",
    "    def __init__(self, name, salary):\n",
    "        self.name = name\n",
    "        self.salary = salary\n",
    "\n",
    "    def display_employee_details(self):\n",
    "        print(f\"Name: {self.name}, Salary: {self.salary}\")\n",
    "\n",
    "#In this example, the Employee class has an __init__() method that takes two arguments, name and salary. \n",
    "#The method initializes the corresponding attributes (self.name and self.salary) with the values of these arguments.\n",
    "#To create an instance of the Employee class,we simply call the class as if it were a function and pass the required arguments:\n",
    "\n",
    "emp1 = Employee(\"azhar hasan\", 5000)\n",
    "#Now, emp1 is an instance of the Employee class, with its own values for the name and salary attributes. \n",
    "#You can call the display_employee_details() method on the object to display its attributes:\n",
    "\n",
    "emp1.display_employee_details() \n",
    "# Output: Name: azhar hasan, Salary: 5000\n",
    "# In this way, the __init__() method is used to initialize the attributes of an object when it is created,\n",
    "# making it easier to work with objects in a program.\n",
    "\n",
    "\n"
   ]
  },
  {
   "cell_type": "code",
   "execution_count": 7,
   "id": "ca69c724-b8d8-49e7-ab59-f2a38ea3d70c",
   "metadata": {},
   "outputs": [
    {
     "name": "stdout",
     "output_type": "stream",
     "text": [
      "Object `OOPs` not found.\n"
     ]
    }
   ],
   "source": [
    "Q4. Why self is used in OOPs?"
   ]
  },
  {
   "cell_type": "code",
   "execution_count": 8,
   "id": "c10f1bfd-f2aa-4c9a-b70b-5fcff1b91e3c",
   "metadata": {},
   "outputs": [
    {
     "name": "stdout",
     "output_type": "stream",
     "text": [
      "Hello, my name is azhar and I'm 25 years old.\n"
     ]
    }
   ],
   "source": [
    "# self keyword is used in Python OOP to refer to the instance of the class that is being operated on. \n",
    "# It allows you to access the attributes and methods of the object and perform operations on it.\n",
    "# When a method is called on an object, Python automatically passes the instance of the class (i.e., the object) as the\n",
    "# first argument to the method. By convention, this argument is called self because it is a reference to the object itself.\n",
    "# for example:-\n",
    "\n",
    "class Person:\n",
    "    def __init__(self, name, age):\n",
    "        self.name = name\n",
    "        self.age = age\n",
    "    \n",
    "    def say_hello(self):\n",
    "        print(f\"Hello, my name is {self.name} and I'm {self.age} years old.\")\n",
    "\n",
    "# Creating an object of the Person class\n",
    "person = Person(\"azhar\", 25)\n",
    "\n",
    "# Calling the say_hello() method on the object\n",
    "person.say_hello()\n",
    "\n"
   ]
  },
  {
   "cell_type": "code",
   "execution_count": 9,
   "id": "350e7ec8-cf49-433e-9f10-868d12a2ce59",
   "metadata": {},
   "outputs": [],
   "source": [
    "#Q5. What is inheritance? Give an example for each type of inheritance."
   ]
  },
  {
   "cell_type": "code",
   "execution_count": 11,
   "id": "a1eba74a-900e-41a1-adb7-fd70d8f8bbde",
   "metadata": {},
   "outputs": [
    {
     "name": "stdout",
     "output_type": "stream",
     "text": [
      "Fido\n",
      "Woof!\n",
      "Method of class A\n",
      "The animal speaks\n",
      "The mammal feeds milk\n",
      "Woof!\n"
     ]
    }
   ],
   "source": [
    "# Inheritance is a concept in object-oriented programming where a new class can be created by deriving properties\n",
    "# and characteristics from an existing class. The existing class is called the parent class or base class, \n",
    "# and the new class is called the child class or derived class.\n",
    "\n",
    "# Python supports three types of inheritance:\n",
    "\n",
    "# Single inheritance: In single inheritance, a new class is derived from a single parent class.\n",
    "# Example:\n",
    "\n",
    "class Animal:\n",
    "    def __init__(self, name):\n",
    "        self.name = name\n",
    "    \n",
    "    def speak(self):\n",
    "        print(\"The animal speaks\")\n",
    "\n",
    "class Dog(Animal):\n",
    "    def __init__(self, name):\n",
    "        super().__init__(name)\n",
    "    \n",
    "    def speak(self):\n",
    "        print(\"Woof!\")\n",
    "\n",
    "my_dog = Dog(\"Fido\")\n",
    "print(my_dog.name)\n",
    "my_dog.speak()\n",
    "\n",
    "# Multiple inheritance: In multiple inheritance, a new class is derived from two or more parent classes.\n",
    "class A:\n",
    "    def method(self):\n",
    "        print(\"Method of class A\")\n",
    "\n",
    "class B:\n",
    "    def method(self):\n",
    "        print(\"Method of class B\")\n",
    "\n",
    "class C(A, B):\n",
    "    pass\n",
    "\n",
    "c = C()\n",
    "c.method()\n",
    "# In this example, the C class is derived from both the A and B classes. The C class inherits the method() method \n",
    "# from both the A and B classes. When c.method() is called, the method from class A is called because \n",
    "# it appears first in the inheritance list.\n",
    "\n",
    "\n",
    "\n",
    "# Multilevel inheritance: In multilevel inheritance, a new class is derived from a parent class,\n",
    "# which is itself derived from another parent class.\n",
    "\n",
    "class Animal:\n",
    "    def speak(self):\n",
    "        print(\"The animal speaks\")\n",
    "\n",
    "class Mammal(Animal):\n",
    "    def feed_milk(self):\n",
    "        print(\"The mammal feeds milk\")\n",
    "\n",
    "class Dog(Mammal):\n",
    "    def bark(self):\n",
    "        print(\"Woof!\")\n",
    "\n",
    "my_dog = Dog()\n",
    "my_dog.speak()\n",
    "my_dog.feed_milk()\n",
    "my_dog.bark()\n",
    "# In this example, the Dog class is derived from the Mammal class, which is derived from the Animal class.\n",
    "# The Dog class inherits the speak() method from the Animal class and the feed_milk() method from the Mammal class.\n",
    "# The Dog class also has its own bark() method.\n"
   ]
  },
  {
   "cell_type": "code",
   "execution_count": null,
   "id": "a61a4688-0886-4f78-94ca-8bb7e742ca55",
   "metadata": {},
   "outputs": [],
   "source": []
  }
 ],
 "metadata": {
  "kernelspec": {
   "display_name": "Python 3 (ipykernel)",
   "language": "python",
   "name": "python3"
  },
  "language_info": {
   "codemirror_mode": {
    "name": "ipython",
    "version": 3
   },
   "file_extension": ".py",
   "mimetype": "text/x-python",
   "name": "python",
   "nbconvert_exporter": "python",
   "pygments_lexer": "ipython3",
   "version": "3.10.8"
  }
 },
 "nbformat": 4,
 "nbformat_minor": 5
}
